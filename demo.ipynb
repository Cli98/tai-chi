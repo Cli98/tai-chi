{
 "cells": [
  {
   "cell_type": "code",
   "execution_count": 1,
   "metadata": {},
   "outputs": [],
   "source": [
    "from forgebox.imports import *\n",
    "from tai_chi_engine import TaiChiEngine\n",
    "from tai_chi_engine.utils import df_creator_auto_folder\n",
    "import pandas as pd\n",
    "import os\n",
    "import glob"
   ]
  },
  {
   "cell_type": "markdown",
   "metadata": {},
   "source": [
    "### setup auto dataset "
   ]
  },
  {
   "cell_type": "code",
   "execution_count": 3,
   "metadata": {},
   "outputs": [],
   "source": [
    "dataset_path = os.path.join(\"kitti_3d_dataset_sample\")"
   ]
  },
  {
   "cell_type": "code",
   "execution_count": 5,
   "metadata": {},
   "outputs": [
    {
     "data": {
      "text/html": [
       "<div>\n",
       "<style scoped>\n",
       "    .dataframe tbody tr th:only-of-type {\n",
       "        vertical-align: middle;\n",
       "    }\n",
       "\n",
       "    .dataframe tbody tr th {\n",
       "        vertical-align: top;\n",
       "    }\n",
       "\n",
       "    .dataframe thead th {\n",
       "        text-align: right;\n",
       "    }\n",
       "</style>\n",
       "<table border=\"1\" class=\"dataframe\">\n",
       "  <thead>\n",
       "    <tr style=\"text-align: right;\">\n",
       "      <th></th>\n",
       "      <th>image_path</th>\n",
       "      <th>lidar_path</th>\n",
       "      <th>calib_path</th>\n",
       "      <th>label_path</th>\n",
       "    </tr>\n",
       "  </thead>\n",
       "  <tbody>\n",
       "    <tr>\n",
       "      <th>0</th>\n",
       "      <td>kitti_3d_dataset_sample/image_2/000001.png</td>\n",
       "      <td>kitti_3d_dataset_sample/velodyne/000001.bin</td>\n",
       "      <td>kitti_3d_dataset_sample/calib/000001.txt</td>\n",
       "      <td>kitti_3d_dataset_sample/label_2/000001.txt</td>\n",
       "    </tr>\n",
       "    <tr>\n",
       "      <th>1</th>\n",
       "      <td>kitti_3d_dataset_sample/image_2/000000.png</td>\n",
       "      <td>kitti_3d_dataset_sample/velodyne/000000.bin</td>\n",
       "      <td>kitti_3d_dataset_sample/calib/000000.txt</td>\n",
       "      <td>kitti_3d_dataset_sample/label_2/000000.txt</td>\n",
       "    </tr>\n",
       "    <tr>\n",
       "      <th>2</th>\n",
       "      <td>kitti_3d_dataset_sample/image_2/000002.png</td>\n",
       "      <td>kitti_3d_dataset_sample/velodyne/000002.bin</td>\n",
       "      <td>kitti_3d_dataset_sample/calib/000002.txt</td>\n",
       "      <td>kitti_3d_dataset_sample/label_2/000002.txt</td>\n",
       "    </tr>\n",
       "  </tbody>\n",
       "</table>\n",
       "</div>"
      ],
      "text/plain": [
       "                                   image_path  \\\n",
       "0  kitti_3d_dataset_sample/image_2/000001.png   \n",
       "1  kitti_3d_dataset_sample/image_2/000000.png   \n",
       "2  kitti_3d_dataset_sample/image_2/000002.png   \n",
       "\n",
       "                                    lidar_path  \\\n",
       "0  kitti_3d_dataset_sample/velodyne/000001.bin   \n",
       "1  kitti_3d_dataset_sample/velodyne/000000.bin   \n",
       "2  kitti_3d_dataset_sample/velodyne/000002.bin   \n",
       "\n",
       "                                 calib_path  \\\n",
       "0  kitti_3d_dataset_sample/calib/000001.txt   \n",
       "1  kitti_3d_dataset_sample/calib/000000.txt   \n",
       "2  kitti_3d_dataset_sample/calib/000002.txt   \n",
       "\n",
       "                                   label_path  \n",
       "0  kitti_3d_dataset_sample/label_2/000001.txt  \n",
       "1  kitti_3d_dataset_sample/label_2/000000.txt  \n",
       "2  kitti_3d_dataset_sample/label_2/000002.txt  "
      ]
     },
     "execution_count": 5,
     "metadata": {},
     "output_type": "execute_result"
    }
   ],
   "source": [
    "base_df = df_creator_auto_folder(dataset_path)\n",
    "base_df.head()"
   ]
  },
  {
   "cell_type": "markdown",
   "metadata": {},
   "source": [
    "### Start of the pipeline"
   ]
  },
  {
   "cell_type": "markdown",
   "metadata": {},
   "source": [
    "Initiate the ```phase``` to track the configuration"
   ]
  },
  {
   "cell_type": "code",
   "execution_count": 6,
   "metadata": {},
   "outputs": [],
   "source": [
    "PROJECT = Path(\"./auto_3d\")"
   ]
  },
  {
   "cell_type": "code",
   "execution_count": 8,
   "metadata": {},
   "outputs": [
    {
     "data": {
      "application/javascript": [
       "\n",
       "IPython.OutputArea.prototype._should_scroll = function(lines) {\n",
       "    return false;\n",
       "}\n"
      ],
      "text/plain": [
       "<IPython.core.display.Javascript object>"
      ]
     },
     "metadata": {},
     "output_type": "display_data"
    },
    {
     "data": {
      "application/vnd.jupyter.widget-view+json": {
       "model_id": "ee7ecddb1bcc4d7a85d53d2cd7d58e53",
       "version_major": 2,
       "version_minor": 0
      },
      "text/plain": [
       "VBox(children=(HBox(children=(Button(button_style='danger', description='1:Enrich', icon='cube', style=ButtonS…"
      ]
     },
     "metadata": {},
     "output_type": "display_data"
    },
    {
     "data": {
      "application/vnd.jupyter.widget-view+json": {
       "model_id": "359d40b771124eacabcd568a1e25d273",
       "version_major": 2,
       "version_minor": 0
      },
      "text/plain": [
       "Output()"
      ]
     },
     "metadata": {},
     "output_type": "display_data"
    }
   ],
   "source": [
    "from tai_chi_engine import TaiChiEngine\n",
    "engine = TaiChiEngine(base_df, project=PROJECT)\n",
    "engine()"
   ]
  },
  {
   "cell_type": "code",
   "execution_count": null,
   "metadata": {},
   "outputs": [],
   "source": []
  }
 ],
 "metadata": {
  "kernelspec": {
   "display_name": "Python 3",
   "language": "python",
   "name": "python3"
  },
  "language_info": {
   "codemirror_mode": {
    "name": "ipython",
    "version": 3
   },
   "file_extension": ".py",
   "mimetype": "text/x-python",
   "name": "python",
   "nbconvert_exporter": "python",
   "pygments_lexer": "ipython3",
   "version": "3.7.6"
  }
 },
 "nbformat": 4,
 "nbformat_minor": 4
}
