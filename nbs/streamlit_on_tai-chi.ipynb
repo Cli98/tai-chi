{
 "cells": [
  {
   "cell_type": "markdown",
   "metadata": {},
   "source": [
    "## Load a model"
   ]
  },
  {
   "cell_type": "code",
   "execution_count": 14,
   "metadata": {},
   "outputs": [],
   "source": [
    "# export\n",
    "from tai_chi_engine import TaiChiTrained\n",
    "from pathlib import Path\n",
    "import logging\n",
    "import pandas as pd\n",
    "from PIL import Image\n",
    "import streamlit as st"
   ]
  },
  {
   "cell_type": "code",
   "execution_count": 2,
   "metadata": {},
   "outputs": [],
   "source": [
    "# !pip install streamlit==1.3.1"
   ]
  },
  {
   "cell_type": "code",
   "execution_count": null,
   "metadata": {},
   "outputs": [],
   "source": [
    "# export\n",
    "@st.cache(allow_output_mutation=True)\n",
    "def load_trained(project):\n",
    "    PROJECT = Path(project)\n",
    "    logging.warning('loading... takes time')\n",
    "    trained = TaiChiTrained(PROJECT)\n",
    "    return trained\n",
    "\n",
    "trained = load_trained(\"./project/image_regression\")\n",
    "\n",
    "slug = trained.phase['task_slug']\n",
    "st.title('A Tai-Chi Engine Model:')\n",
    "st.write(f'Task: {slug}')"
   ]
  },
  {
   "cell_type": "code",
   "execution_count": 29,
   "metadata": {},
   "outputs": [],
   "source": [
    "# export\n",
    "from tai_chi_engine.quantify import (\n",
    "    QuantifyText,\n",
    "    QuantifyCategory,\n",
    "    QuantifyImage,\n",
    "    QuantifyMultiCategory,\n",
    "    QuantifyNum\n",
    ")\n",
    "from typing import List, Any"
   ]
  },
  {
   "cell_type": "code",
   "execution_count": 29,
   "metadata": {},
   "outputs": [],
   "source": [
    "# export\n",
    "def st_num(name, quantify, enrich=None):\n",
    "    value = quantify.mean_\n",
    "    min_value = quantify.mean_ - 3*quantify.std_\n",
    "    max_value = quantify.mean_ + 3*quantify.std_\n",
    "    \n",
    "    return st.slider(\n",
    "        label = name,\n",
    "        min_value = min_value,\n",
    "        max_value = max_value,\n",
    "        value = value)\n",
    "    \n",
    "def st_image(name, quantify,enrich=None):\n",
    "    if enrich is None:\n",
    "        size = 224\n",
    "        convert = \"RGB\"\n",
    "    elif enrich['enrich']!=\"EnrichImage\":\n",
    "        size = 224\n",
    "        convert = \"RGB\"\n",
    "    else:\n",
    "        size = enrich['kwargs']['size']\n",
    "        convert = enrich['kwargs']['convert']\n",
    "    uploaded_file = st.file_uploader(label=name, type=[\"jpg\",\"png\",\"jpeg\",\"JPG\",\"PNG\",\"JPEG\"])\n",
    "        \n",
    "    if uploaded_file is not None:\n",
    "        image = Image.open(uploaded_file).resize((size, size))\n",
    "        st.image(image, channels = convert)\n",
    "        return image\n",
    "\n",
    "def st_text(name, quantify, enrich=None):\n",
    "    if quantify.max_length>64:\n",
    "        return st.text_area(label = name, )\n",
    "    else:\n",
    "        return st.text_input(label = name)\n",
    "        \n",
    "def st_multiselect(name, quantify, enrich=None):\n",
    "    return st.multiselect(label=name, options=quantify.category.i2c)\n",
    "\n",
    "def st_select(name, quantify, enrich=None):\n",
    "    return st.selectbox(label=name, options=quantify.category.i2c)"
   ]
  },
  {
   "cell_type": "code",
   "execution_count": 30,
   "metadata": {},
   "outputs": [],
   "source": [
    "# export\n",
    "def get_enrich(trained,key):\n",
    "    if 'enrich' not in trained.phase.config:\n",
    "        return None\n",
    "    for enrich in trained.phase['enrich']:\n",
    "        if enrich['dst'] == key:\n",
    "            return enrich\n",
    "    return None\n",
    "\n",
    "\n",
    "def build_app(trained):\n",
    "    input_data = dict()\n",
    "    for name, quantify in trained.qdict.items():\n",
    "        if quantify.is_x:\n",
    "            if type(quantify) == QuantifyNum:\n",
    "                input_data.update({name: st_num(name, quantify)})\n",
    "                logging.info(f\"Input Field:{name} as float number\")\n",
    "            if type(quantify) == QuantifyImage:\n",
    "                enrich = get_enrich(trained, name)\n",
    "                input_data.update({name: st_image(name, quantify, enrich)})\n",
    "                logging.info(f\"Input Field:{name} as image\")\n",
    "            if type(quantify) == QuantifyText:\n",
    "                logging.info(f\"Input Field:{name} as text\")\n",
    "                input_data.update({name: st_text(name, quantify)})\n",
    "            if type(quantify) == QuantifyMultiCategory:\n",
    "                logging.info(f\"Input Field:{name} as multi-select\")\n",
    "                val = st_multiselect(name, quantify)\n",
    "                if quantify.actual_separator is not None:\n",
    "                    val = quantify.actual_separator.join(val)\n",
    "                input_data.update({name: val})\n",
    "            if type(quantify) == QuantifyCategory:\n",
    "                logging.info(f\"Input Field:{name} as multi-select\")\n",
    "                input_data.update({name: st_select(name, quantify)})\n",
    "            else:\n",
    "                logging.warning(f\"Don't know how to build Input Field:[{name}]\")\n",
    "                \n",
    "    if st.button(\"Predict\"):\n",
    "        result = trained.predict(input_data)\n",
    "        st.title(\"Result\")\n",
    "        if type(result)==pd.DataFrame:\n",
    "            st.table(result.head(10))\n",
    "        else:\n",
    "            st.write(result)\n",
    "\n",
    "build_app(trained)"
   ]
  },
  {
   "cell_type": "markdown",
   "metadata": {},
   "source": [
    "# Update py file"
   ]
  },
  {
   "cell_type": "code",
   "execution_count": 11,
   "metadata": {},
   "outputs": [],
   "source": [
    "import json\n",
    "\n",
    "def load_all_code(ipynb_path):\n",
    "    with open(ipynb_path, \"r\") as f:\n",
    "        data = json.loads(f.read())\n",
    "\n",
    "    code_blocks = []\n",
    "    for cell in data[\"cells\"]:\n",
    "        if cell[\"cell_type\"] == \"code\":\n",
    "            source = cell[\"source\"]\n",
    "            if len(source) ==0: continue\n",
    "            if source[0].startswith(\"# export\"):\n",
    "                code_blocks.append(''.join(source[1:]))\n",
    "    return '\\n\\n'.join(code_blocks)\n",
    "    \n"
   ]
  },
  {
   "cell_type": "code",
   "execution_count": 18,
   "metadata": {},
   "outputs": [],
   "source": [
    "with open(\"./app.py\",\"w\") as f:\n",
    "    f.write(load_all_code(\"streamlit_on_tai-chi.ipynb\"))"
   ]
  },
  {
   "cell_type": "code",
   "execution_count": 9,
   "metadata": {},
   "outputs": [
    {
     "data": {
      "text/plain": [
       "PhaseConfig:{\n",
       "  \"enrich\": [\n",
       "    {\n",
       "      \"src\": \"path\",\n",
       "      \"dst\": \"image\",\n",
       "      \"kwargs\": {\n",
       "        \"convert\": \"RGB\",\n",
       "        \"size\": 224\n",
       "      },\n",
       "      \"enrich\": \"EnrichImage\"\n",
       "    },\n",
       "    {\n",
       "      \"src\": \"path\",\n",
       "      \"dst\": \"label\",\n",
       "      \"kwargs\": {},\n",
       "      \"enrich\": \"ParentAsLabel\"\n",
       "    }\n",
       "  ],\n",
       "  \"quantify\": [\n",
       "    {\n",
       "      \"src\": \"image\",\n",
       "      \"x\": true,\n",
       "      \"kwargs\": {\n",
       "        \"mean_\": \"imagenet\",\n",
       "        \"std_\": \"imagenet\"\n",
       "      },\n",
       "      \"quantify\": \"QuantifyImage\"\n",
       "    },\n",
       "    {\n",
       "      \"src\": \"label\",\n",
       "      \"x\": false,\n",
       "      \"kwargs\": {\n",
       "        \"min_frequency\": 1\n",
       "      },\n",
       "      \"quantify\": \"QuantifyCategory\"\n",
       "    }\n",
       "  ],\n",
       "  \"batch_level\": {\n",
       "    \"valid_ratio\": 0.1,\n",
       "    \"batch_size\": 32,\n",
       "    \"shuffle\": true,\n",
       "    \"num_workers\": 0\n",
       "  },\n",
       "  \"x_models\": {\n",
       "    \"image\": {\n",
       "      \"model_name\": \"ImageConvEncoder\",\n",
       "      \"src\": \"image\",\n",
       "      \"kwargs\": {\n",
       "        \"name\": \"resnet18\"\n",
       "      }\n",
       "    }\n",
       "  },\n",
       "  \"y_models\": {\n",
       "    \"label\": {\n",
       "      \"model_name\": \"CategoryTop\",\n",
       "      \"src\": \"label\",\n",
       "      \"kwargs\": {}\n",
       "    }\n",
       "  },\n",
       "  \"task_slug\": \"image_to_label\"\n",
       "}"
      ]
     },
     "execution_count": 9,
     "metadata": {},
     "output_type": "execute_result"
    }
   ],
   "source": [
    "trained.phase"
   ]
  },
  {
   "cell_type": "code",
   "execution_count": null,
   "metadata": {},
   "outputs": [],
   "source": []
  }
 ],
 "metadata": {
  "kernelspec": {
   "display_name": "Python 3",
   "language": "python",
   "name": "python3"
  },
  "language_info": {
   "codemirror_mode": {
    "name": "ipython",
    "version": 3
   },
   "file_extension": ".py",
   "mimetype": "text/x-python",
   "name": "python",
   "nbconvert_exporter": "python",
   "pygments_lexer": "ipython3",
   "version": "3.7.6"
  },
  "toc": {
   "base_numbering": 1,
   "nav_menu": {},
   "number_sections": true,
   "sideBar": true,
   "skip_h1_title": false,
   "title_cell": "Table of Contents",
   "title_sidebar": "Contents",
   "toc_cell": false,
   "toc_position": {},
   "toc_section_display": true,
   "toc_window_display": false
  }
 },
 "nbformat": 4,
 "nbformat_minor": 4
}
