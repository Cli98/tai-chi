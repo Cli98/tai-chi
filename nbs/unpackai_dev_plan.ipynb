{
 "cells": [
  {
   "cell_type": "markdown",
   "metadata": {},
   "source": [
    "# UnpackAI Library Development Plan\n",
    "> What library should we be?\n",
    "This proposal, is more of a branding proposal, targeting people who's going to play with AI, from various back grounds.\n",
    "* That means, we're going to talk about how people view this library, how they think of ```pip install -Uqq unpackai``` like if I have dandroff recengtly and my mind just jump right into the headshoulders.\n",
    "* For ML, currently, the **jump** is about the following, this is not a throught marketing research, just quick examples from a deep learning practitioner:\n",
    "    * Try free structure quickly, do experiments: pytorch\n",
    "    * Goes to production, run model on edge devices, Tensorflow\n",
    "    * Play with GPU accelerated tensor calculation: Jax\n",
    "    * Play with tf but in simpler layer sense: Keras\n",
    "    * Transformer in clean code: Huggingface\n",
    "    * Visualize things with interactive features: Plotly\n",
    "    * Deploy model prototype: streamlit\n",
    "* Surely you think I fail to mention ```fastai```, this is where the **branding goes wrong**, fastai library is bounded tightly with the education. It's considered a good creation along side its famous course, after the education. Its product feature has many limitation: docs too brief, not supporting multi-device training, very limited numbers of callbacks went beyond Jeremy H's own teaching.\n",
    "* Most important of all, ```fastai``` isn't enjoyable to use, **it's just packing many things mentioned in the course**."
   ]
  },
  {
   "cell_type": "markdown",
   "metadata": {},
   "source": [
    "## What we shouldn't be\n",
    "I know the course is life changing for me and I feel very grateful. But let's not be their library.\n",
    "\n",
    "### The pipeline wrapping plan\n",
    "It all started from a notebook, quite like a template notebook we have for the course. A notebook that achieves the data processing, model building, interpretation for a specific DL task.\n",
    "\n",
    "Then came the packaging part, we wrap **dozens of lines of codes**, which scares our kind students, into simple functions, or class.\n",
    "\n",
    "The wrapped functions are simple to use, to look at, it was executed in 1 line mostly. So friendly to our innocent students.\n",
    "\n",
    "This is what a python library is about, right? Wrap things into functions which can be further wraped into even less lines.\n",
    "\n",
    "It's nothing wrong about this approach at first. Some DL task, if need be, can be shrank into **less than 10 lines of codes.**\n",
    "* The 1st line load the data, \n",
    "* the 2nd line set how to transform data, \n",
    "* the 3rd line build/load the model, \n",
    "* the 4th line trained model.\n",
    "* the 5th line interpret the model in various ways\n",
    "\n",
    "Well the above do look like a decent **structure** to start with, then we pave out the tasks, different contributors take different tasks, can be developed in parallel, and we can have the agile/crum/kanban fun to track our progress!\n",
    "\n",
    "Even if we do this, we could build a useful product, no less.\n",
    "\n",
    "#### Bad side about pipeline wrapping plan\n",
    "So so many libraries are doing the same, from awesome people even. They usually end up to the following:\n",
    "* It's a mess of functions, among them many good functions but a mess. It ends up a branding disaster. (**There is no way to answer: what can you library do, in a slogan**)\n",
    "* A model zoo for a specific domain.\n",
    "* Wraping things up means less and less involvement from the user. The user will spend very little time play with the functions, and each function usually achieve very specific task. Actually I do believe there is a equilibrium like:\n",
    "$\\large{UserPlayHours = a * Task Transferability}$"
   ]
  },
  {
   "cell_type": "markdown",
   "metadata": {},
   "source": [
    "## Alternative approach"
   ]
  },
  {
   "cell_type": "markdown",
   "metadata": {},
   "source": [
    "The salvation plan is somehow simpler at how we perceive the library:\n",
    "* A library that allows you experiment AI/DL for various tasks\n",
    "\n",
    "**BUT!!!**\n",
    "* Many module with in the pipeline should be dropdown-list/checkbox **Choosable**.\n",
    "* The **level of detail** we let them to play and choose, is the **level of the difficulty** we want them to enjoy\n",
    "\n",
    "### What is level of detail ?\n",
    "Level of details is the level of fuss we want user to focus on, this is the exact part fastai library got **WRONG**, which will explain most of our struggle so far:\n",
    "* It offers smooth/ easy pipelines, for newbies and business people even.\n",
    "* Any amount of reconfigure, is usually way too complicated for such audience\n",
    "* There is a **GAP** between the 2 points above, hence no room for playing\n",
    "\n",
    "#### Keras Example \n",
    "I started my AI journey with Keras, and I love keras by that time, because:\n",
    "* Keras plays with **layers**(eg. Linear, Convolution), its most strenth is at astracting details beneath this level, and let users play with layers. \n",
    "* I spent lots of time, having fun playing with layers\n",
    "* Aside from the things I have to redesign layer, I can deploy almost all kinds of models mentioned in any DL paper (𝑈𝑠𝑒𝑟𝑃𝑙𝑎𝑦𝐻𝑜𝑢𝑟𝑠=𝑎∗𝑇𝑎𝑠𝑘𝑇𝑟𝑎𝑛𝑠𝑓𝑒𝑟𝑎𝑏𝑖𝑙𝑖𝑡𝑦)\n",
    "\n",
    "#### Pytorch lightning example\n",
    "Well I moved on to the career team. I have to deal with layer level, I have to deal with different data/forward pipeline. PL is a good library because:\n",
    "* It allows me play with the things I mentioned, but save my energy on things like looping, logging, multidevice training detail etc.\n",
    "* If you see a training notebook built by PL, you'll see very little lines around training template.\n",
    "* You'll find about a lots of lines on the specifications you intend to be different.\n",
    "\n",
    ">The branding image of the examples are simple:\n",
    "* Keras: play TensorFlow in a concept of layers\n",
    "* Pytorch-Lightning: writting less template code\n",
    "\n",
    "#### Unpackai Example\n",
    "For our lib, I intend for them to focus on, exactly the same range of things we want people to learn:\n",
    "* choose the columns they intend to use, in what way\n",
    "* choose the data transformations\n",
    "* choose the loss, the model structure to use (not keras.layer, not nn.module)\n",
    "* hit run"
   ]
  },
  {
   "cell_type": "markdown",
   "metadata": {},
   "source": [
    "## Demo of such example"
   ]
  },
  {
   "cell_type": "code",
   "execution_count": 1,
   "metadata": {},
   "outputs": [],
   "source": [
    "from ipywidgets import interact, interact_manual\n",
    "from forgebox.imports import *\n",
    "from forgebox.category import Category"
   ]
  },
  {
   "cell_type": "code",
   "execution_count": 2,
   "metadata": {},
   "outputs": [],
   "source": [
    "HOME = Path(os.environ['HOME'])"
   ]
  },
  {
   "cell_type": "markdown",
   "metadata": {},
   "source": [
    "Let's skip data download here, it's download, we're not going to reinvent brilliant stuff around download"
   ]
  },
  {
   "cell_type": "code",
   "execution_count": 3,
   "metadata": {},
   "outputs": [],
   "source": [
    "BEAR_DATASET = HOME/\"Downloads\"/\"bear_dataset\""
   ]
  },
  {
   "cell_type": "markdown",
   "metadata": {},
   "source": [
    "### Step 1 Everything starts with dataframe\n",
    "\n",
    "For fastai, everything starts from list, an ItemList to be specific. **ImageList** and **TextList** is [**ItemList**](https://fastai1.fast.ai/tutorial.itemlist.html) with some slight enhanced feature.```[🧂, 🏓, 🍷, 🐻]```\n",
    "\n",
    "For the clarity of education, or for simplecity as ultimate form of beauty, we use [**DataFrame**](https://pandas.pydata.org/docs/reference/api/pandas.DataFrame.html) as starting point, ItemList in table format. In this way, every dataset has the same starting point, even the tabular data. "
   ]
  },
  {
   "cell_type": "code",
   "execution_count": 4,
   "metadata": {},
   "outputs": [],
   "source": [
    "def df_creator_image_folder(path: Path):\n",
    "    path = Path(path)\n",
    "    files = list(path.rglob(\"*.jpg\"))\n",
    "    files.extend(path.rglob(\"*.JPG\"))\n",
    "    files.extend(path.rglob(\"*.jpeg\"))\n",
    "    files.extend(path.rglob(\"*.JPEG\"))\n",
    "    files.extend(path.rglob(\"*.png\"))\n",
    "    files.extend(path.rglob(\"*.PNG\"))\n",
    "    return pd.DataFrame({\"path\":files}).sample(frac=1.).reset_index(drop=True)"
   ]
  },
  {
   "cell_type": "markdown",
   "metadata": {},
   "source": [
    "### Enrich columns (feature transformation, label extraction)\n",
    "After this step, there will only be **MORE** column ➕"
   ]
  },
  {
   "cell_type": "code",
   "execution_count": 5,
   "metadata": {},
   "outputs": [],
   "source": [
    "from typing import List, Dict, Callable, Any, Tuple\n",
    "from torchvision import transforms as tfm\n",
    "from PIL import Image\n",
    "from forgebox.html import DOM"
   ]
  },
  {
   "cell_type": "code",
   "execution_count": 6,
   "metadata": {},
   "outputs": [],
   "source": [
    "class Phase:\n",
    "    \"\"\"\n",
    "    A configuration management mechanism\n",
    "    \"\"\"\n",
    "    is_phase = True\n",
    "    def __init__(self, **kwargs):\n",
    "        self.config = dict()\n",
    "        self.config.update(kwargs)\n",
    "        \n",
    "    def __setitem__(self, k, v):\n",
    "        self.config[k] = v\n",
    "    \n",
    "    def __getitem__(self, k):\n",
    "        return self.config[k]\n",
    "    \n",
    "    def __call__(self):\n",
    "        return self.get_data(self.config)\n",
    "    \n",
    "    def get_data(self, raw):\n",
    "        \"\"\"\n",
    "        Reconstruct back to dict or list or value format\n",
    "        \"\"\"\n",
    "        if hasattr(raw,\"is_phase\"):\n",
    "            return raw.get_data(raw.config)\n",
    "        if type(raw) == list:\n",
    "            raw = list(self.get_data(i) for i in raw)\n",
    "            return raw\n",
    "        if type(raw) == dict:\n",
    "            for k, v in raw.items():\n",
    "                raw[k] = self.get_data(v)\n",
    "            return raw\n",
    "        return raw\n",
    "\n",
    "    def __str__(self):\n",
    "        return json.dumps(self(), indent=2)\n",
    "    \n",
    "    def __repr__(self,):\n",
    "        return f\"Phase:{self}\"\n",
    "    \n",
    "\n",
    "class EnrichPhase(Phase):\n",
    "    def __init__(self, *steps):\n",
    "        super().__init__()\n",
    "        self.config['steps'] = []\n",
    "        for step in steps:\n",
    "            checked = self.check_step(step)\n",
    "            if checked:\n",
    "                self.config['steps'].append(checked)\n",
    "                \n",
    "    def new_step(self, process, dst:str, src: str=None):\n",
    "        self.config['steps'].append({\n",
    "            \"process\":process,\n",
    "            \"src\":src,\n",
    "            \"dst\":dst\n",
    "        })\n",
    "    \n",
    "    def check_step(self,step):\n",
    "        return step"
   ]
  },
  {
   "cell_type": "markdown",
   "metadata": {},
   "source": [
    "### typings for interactives"
   ]
  },
  {
   "cell_type": "code",
   "execution_count": 7,
   "metadata": {},
   "outputs": [],
   "source": [
    "from ipywidgets import (\n",
    "    Text, Textarea, IntSlider, SelectMultiple, Dropdown,\n",
    "    Layout, Button\n",
    ")\n",
    "from typing import List, Dict, Any"
   ]
  },
  {
   "cell_type": "code",
   "execution_count": 8,
   "metadata": {},
   "outputs": [],
   "source": [
    "class InteractiveTyping:\n",
    "    \"\"\"\n",
    "    Typing for interactive details\n",
    "    self.__call__() will create widgets directly\n",
    "    \"\"\"\n",
    "    name = \"anything\"\n",
    "    is_typing = True\n",
    "\n",
    "    def solid(self, default) -> None:\n",
    "        \"\"\"\n",
    "        Reset default value\n",
    "        \"\"\"\n",
    "        if default is not None:\n",
    "            self.default = default\n",
    "\n",
    "\n",
    "class INT(InteractiveTyping):\n",
    "    def __init__(self, min_: int = 0, max_: int = 10, step: int = 1, default: int = None):\n",
    "        self.max_ = max_\n",
    "        self.min_ = min_\n",
    "        self.step = step\n",
    "        self.default = default if default is not None else 1\n",
    "\n",
    "    def __repr__(self):\n",
    "        return f\"int[{self.min_}-{self.max_}, :{self.step}]={self.default}\"\n",
    "\n",
    "    def __call__(self, default: int = None):\n",
    "        self.solid(default)\n",
    "        return IntSlider(\n",
    "            value=self.default,\n",
    "            min=self.min_,\n",
    "            max=self.max_,\n",
    "            step=self.step,\n",
    "        )\n",
    "\n",
    "\n",
    "class STR(InteractiveTyping):\n",
    "    \"\"\"\n",
    "    String object\n",
    "    will create text or textarea\n",
    "    \"\"\"\n",
    "\n",
    "    def __init__(self, default: str = None, use_area: bool = False):\n",
    "        \"\"\"\n",
    "        use_area: do we use Textarea, if False,we use Text\n",
    "        \"\"\"\n",
    "        self.default = \"\" if default is None else default\n",
    "        self.use_area = use_area\n",
    "\n",
    "    def __repr__(self):\n",
    "        return f\"str='{self.default}'\"\n",
    "\n",
    "    def __call__(self, default: str = None):\n",
    "        self.solid(default)\n",
    "        if self.use_area:\n",
    "            return Textarea(value=self.default, layout=Layout(width=\"80%\"))\n",
    "        return Text(value=self.default)\n",
    "\n",
    "\n",
    "class LIST(InteractiveTyping):\n",
    "    \"\"\"\n",
    "    dropdown list type or multiselection type\n",
    "    \"\"\"\n",
    "\n",
    "    def __init__(self, options: List[Any] = [], default: Any = None, multi: bool = False):\n",
    "        \"\"\"\n",
    "        if multi: default should be iterable\n",
    "        else: default should be one of the option\n",
    "        \"\"\"\n",
    "        self.options = options\n",
    "        self.default = default\n",
    "        self.multi = multi\n",
    "\n",
    "    def __repr__(self):\n",
    "        if self.multi:\n",
    "            size = f\"[0-{self.len(self.default)}]/{self.len(self.default)}\"\n",
    "        else:\n",
    "            size = f\"1/{self.len(self.default)}\"\n",
    "        return f\"list,{size}\"\n",
    "\n",
    "    def __call__(self, default: Any = None):\n",
    "        self.solid(default)\n",
    "        if self.multi:\n",
    "            inter = SelectMultiple(options=self.options)\n",
    "        else:\n",
    "            inter = Dropdown(options=self.options)\n",
    "\n",
    "        if self.default is not None:\n",
    "            # if multi: default should be iterable\n",
    "            # else: default should be one of the option\n",
    "            inter.value = self.default\n",
    "        return inter"
   ]
  },
  {
   "cell_type": "code",
   "execution_count": 9,
   "metadata": {},
   "outputs": [
    {
     "data": {
      "application/vnd.jupyter.widget-view+json": {
       "model_id": "eba53f7a5193411ebfb5c13d98a3724a",
       "version_major": 2,
       "version_minor": 0
      },
      "text/plain": [
       "Text(value='RGB')"
      ]
     },
     "metadata": {},
     "output_type": "display_data"
    }
   ],
   "source": [
    "STR('RGB')()"
   ]
  },
  {
   "cell_type": "code",
   "execution_count": 14,
   "metadata": {},
   "outputs": [],
   "source": [
    "class Enrich:\n",
    "    is_enrich = True\n",
    "    prefer = None\n",
    "    lazy = False  # shall we execute enrichment only through the iteration\n",
    "    def __init__(self): pass\n",
    "\n",
    "    def __call__(self, row):\n",
    "        return row\n",
    "\n",
    "\n",
    "class EnrichImage(Enrich):\n",
    "    \"\"\"\n",
    "    Create Image column from image path column\n",
    "    \"\"\"\n",
    "    prefer = \"QuantifyImage\"\n",
    "    typing = Image\n",
    "    lazy = True\n",
    "\n",
    "    def __init__(\n",
    "        self, convert: STR(\"RGB\") = \"RGB\",\n",
    "        size: LIST(options=[28,128,224, 256, 512], default=224) = 224,\n",
    "    ):\n",
    "        self.convert = convert\n",
    "        self.size = size\n",
    "\n",
    "    def __repr__(self):\n",
    "        return f\"[Image:{self.size}]\"\n",
    "\n",
    "    def __call__(self, x):\n",
    "        img = Image.open(x).convert(self.convert)\n",
    "        img = img.resize((self.size, self.size))\n",
    "        return img\n",
    "\n",
    "\n",
    "class ParentAsLabel(Enrich):\n",
    "    def __call__(\n",
    "        path: Path,\n",
    "    ) -> str:\n",
    "        \"\"\"\n",
    "        Use parent folder name as label\n",
    "        \"\"\"\n",
    "        return Path(path).parent.name"
   ]
  },
  {
   "cell_type": "markdown",
   "metadata": {},
   "source": [
    "### Initialize => interact "
   ]
  },
  {
   "cell_type": "code",
   "execution_count": 15,
   "metadata": {},
   "outputs": [],
   "source": [
    "def print_kwargs(kwargs):\n",
    "    print(kwargs)\n",
    "    return kwargs\n",
    "\n",
    "def reconfig_manual_interact(widget, description:str=\"Create\"):\n",
    "    btn=None\n",
    "    for w in widget.children:\n",
    "        if type(w)==Button:\n",
    "            btn = w\n",
    "            break\n",
    "    btn.description=description\n",
    "    return btn\n",
    "\n",
    "def init_interact(cls, result_cb:Callable=print_kwargs):\n",
    "    \"\"\"\n",
    "    Initialize a class with interactive features\n",
    "    \"\"\"\n",
    "    annotations = cls.__init__.__annotations__\n",
    "    defaults = cls.__init__.__defaults__\n",
    "    kwargs = dict()\n",
    "    if defaults is not None:\n",
    "        for (k,typing), default in zip(annotations.items(), defaults):\n",
    "            kwargs.update({k:typing(default)})\n",
    "    obj = dict()\n",
    "    def fillin_init(**kwargs):\n",
    "        obj.update({\n",
    "            \"kwargs\":kwargs,\n",
    "        })\n",
    "    f= interact_manual(fillin_init, **kwargs)\n",
    "\n",
    "    \n",
    "\n",
    "    btn = reconfig_manual_interact(f.widget)\n",
    "    if btn is not None:\n",
    "        original = btn.click\n",
    "        \n",
    "        def new_click_event():\n",
    "            original()\n",
    "            return result_cb(obj['kwargs'])\n",
    "        btn.click = new_click_event\n",
    "    \n",
    "    return obj, f"
   ]
  },
  {
   "cell_type": "code",
   "execution_count": 16,
   "metadata": {},
   "outputs": [
    {
     "data": {
      "application/vnd.jupyter.widget-view+json": {
       "model_id": "9ddafd999e3440aea825f0d0b917ce46",
       "version_major": 2,
       "version_minor": 0
      },
      "text/plain": [
       "interactive(children=(Text(value='RGB', description='convert'), Dropdown(description='size', index=2, options=…"
      ]
     },
     "metadata": {},
     "output_type": "display_data"
    }
   ],
   "source": [
    "obj,f = init_interact(EnrichImage)"
   ]
  },
  {
   "cell_type": "code",
   "execution_count": 17,
   "metadata": {},
   "outputs": [],
   "source": [
    "ENRICHMENTS = dict(\n",
    "    EnrichImage=EnrichImage,\n",
    "    ParentAsLabel=ParentAsLabel,\n",
    ")"
   ]
  },
  {
   "cell_type": "code",
   "execution_count": 18,
   "metadata": {},
   "outputs": [],
   "source": [
    "phase = Phase()"
   ]
  },
  {
   "cell_type": "code",
   "execution_count": 177,
   "metadata": {},
   "outputs": [
    {
     "data": {
      "text/html": [
       "<div>\n",
       "<style scoped>\n",
       "    .dataframe tbody tr th:only-of-type {\n",
       "        vertical-align: middle;\n",
       "    }\n",
       "\n",
       "    .dataframe tbody tr th {\n",
       "        vertical-align: top;\n",
       "    }\n",
       "\n",
       "    .dataframe thead th {\n",
       "        text-align: right;\n",
       "    }\n",
       "</style>\n",
       "<table border=\"1\" class=\"dataframe\">\n",
       "  <thead>\n",
       "    <tr style=\"text-align: right;\">\n",
       "      <th></th>\n",
       "      <th>path</th>\n",
       "    </tr>\n",
       "  </thead>\n",
       "  <tbody>\n",
       "    <tr>\n",
       "      <th>0</th>\n",
       "      <td>/Users/xiaochen.zhang/Downloads/bear_dataset/b...</td>\n",
       "    </tr>\n",
       "    <tr>\n",
       "      <th>1</th>\n",
       "      <td>/Users/xiaochen.zhang/Downloads/bear_dataset/t...</td>\n",
       "    </tr>\n",
       "    <tr>\n",
       "      <th>2</th>\n",
       "      <td>/Users/xiaochen.zhang/Downloads/bear_dataset/g...</td>\n",
       "    </tr>\n",
       "    <tr>\n",
       "      <th>3</th>\n",
       "      <td>/Users/xiaochen.zhang/Downloads/bear_dataset/t...</td>\n",
       "    </tr>\n",
       "    <tr>\n",
       "      <th>4</th>\n",
       "      <td>/Users/xiaochen.zhang/Downloads/bear_dataset/t...</td>\n",
       "    </tr>\n",
       "    <tr>\n",
       "      <th>...</th>\n",
       "      <td>...</td>\n",
       "    </tr>\n",
       "    <tr>\n",
       "      <th>517</th>\n",
       "      <td>/Users/xiaochen.zhang/Downloads/bear_dataset/t...</td>\n",
       "    </tr>\n",
       "    <tr>\n",
       "      <th>518</th>\n",
       "      <td>/Users/xiaochen.zhang/Downloads/bear_dataset/b...</td>\n",
       "    </tr>\n",
       "    <tr>\n",
       "      <th>519</th>\n",
       "      <td>/Users/xiaochen.zhang/Downloads/bear_dataset/b...</td>\n",
       "    </tr>\n",
       "    <tr>\n",
       "      <th>520</th>\n",
       "      <td>/Users/xiaochen.zhang/Downloads/bear_dataset/b...</td>\n",
       "    </tr>\n",
       "    <tr>\n",
       "      <th>521</th>\n",
       "      <td>/Users/xiaochen.zhang/Downloads/bear_dataset/g...</td>\n",
       "    </tr>\n",
       "  </tbody>\n",
       "</table>\n",
       "<p>522 rows × 1 columns</p>\n",
       "</div>"
      ],
      "text/plain": [
       "                                                  path\n",
       "0    /Users/xiaochen.zhang/Downloads/bear_dataset/b...\n",
       "1    /Users/xiaochen.zhang/Downloads/bear_dataset/t...\n",
       "2    /Users/xiaochen.zhang/Downloads/bear_dataset/g...\n",
       "3    /Users/xiaochen.zhang/Downloads/bear_dataset/t...\n",
       "4    /Users/xiaochen.zhang/Downloads/bear_dataset/t...\n",
       "..                                                 ...\n",
       "517  /Users/xiaochen.zhang/Downloads/bear_dataset/t...\n",
       "518  /Users/xiaochen.zhang/Downloads/bear_dataset/b...\n",
       "519  /Users/xiaochen.zhang/Downloads/bear_dataset/b...\n",
       "520  /Users/xiaochen.zhang/Downloads/bear_dataset/b...\n",
       "521  /Users/xiaochen.zhang/Downloads/bear_dataset/g...\n",
       "\n",
       "[522 rows x 1 columns]"
      ]
     },
     "execution_count": 177,
     "metadata": {},
     "output_type": "execute_result"
    }
   ],
   "source": [
    "bear_df = df_creator_image_folder(BEAR_DATASET)\n",
    "\n",
    "bear_df"
   ]
  },
  {
   "cell_type": "code",
   "execution_count": 51,
   "metadata": {},
   "outputs": [],
   "source": [
    "from ipywidgets import VBox, HBox, HTML"
   ]
  },
  {
   "cell_type": "code",
   "execution_count": 52,
   "metadata": {},
   "outputs": [
    {
     "data": {
      "application/vnd.jupyter.widget-view+json": {
       "model_id": "621a1d033cbc425bb0faa0c18c546425",
       "version_major": 2,
       "version_minor": 0
      },
      "text/plain": [
       "VBox(children=(HTML(value='23'),))"
      ]
     },
     "metadata": {},
     "output_type": "display_data"
    }
   ],
   "source": [
    "vbx = VBox(list([HTML(\"23\")]))\n",
    "vbx"
   ]
  },
  {
   "cell_type": "code",
   "execution_count": 54,
   "metadata": {},
   "outputs": [],
   "source": [
    "vbx.children = list(vbx.children)"
   ]
  },
  {
   "cell_type": "code",
   "execution_count": 58,
   "metadata": {},
   "outputs": [],
   "source": [
    "children = list(vbx.children)\n",
    "children.append(HTML('42'))"
   ]
  },
  {
   "cell_type": "code",
   "execution_count": 60,
   "metadata": {},
   "outputs": [],
   "source": [
    "vbx.children = children"
   ]
  },
  {
   "cell_type": "code",
   "execution_count": 70,
   "metadata": {},
   "outputs": [
    {
     "data": {
      "text/plain": [
       "5267650000"
      ]
     },
     "execution_count": 70,
     "metadata": {},
     "output_type": "execute_result"
    }
   ],
   "source": [
    "id(vbx)"
   ]
  },
  {
   "cell_type": "code",
   "execution_count": 98,
   "metadata": {},
   "outputs": [],
   "source": [
    "class MoreOrLess(VBox):\n",
    "    \"\"\"\n",
    "    Interactive list\n",
    "    \"\"\"\n",
    "    def __init__(self, ):\n",
    "        super().__init__([])\n",
    "        self.list_ = list()\n",
    "        \n",
    "    def create_line(self, data):\n",
    "        children = list(self.children)\n",
    "        children.append(self.new_line(data))\n",
    "        self.children = children\n",
    "        \n",
    "    def new_line(self, data) -> HBox:\n",
    "        del_btn = Button(description=\"🗑Remove\")\n",
    "        hbox = HBox([del_btn, HTML(json.dumps(data))])\n",
    "        hbox.data = data\n",
    "        def remove_hbox():\n",
    "            children = list(self.children)\n",
    "            for i, c in enumerate(children):\n",
    "                if id(c)==id(hbox):\n",
    "                    children.remove(c)\n",
    "            self.children = children\n",
    "        del_btn.click = remove_hbox\n",
    "        return hbox\n",
    "        \n",
    "    def __add__(self, data):\n",
    "        self.list_.append(data)\n",
    "        self.create_line(data)\n",
    "        return self"
   ]
  },
  {
   "cell_type": "code",
   "execution_count": 99,
   "metadata": {},
   "outputs": [],
   "source": [
    "mol = MoreOrLess()"
   ]
  },
  {
   "cell_type": "code",
   "execution_count": null,
   "metadata": {},
   "outputs": [],
   "source": [
    "mol+{}"
   ]
  },
  {
   "cell_type": "code",
   "execution_count": 100,
   "metadata": {},
   "outputs": [],
   "source": [
    "def set_enrich(df):\n",
    "    DOM(f\"{len(df)} rows of data, example table\", \"h3\")()\n",
    "    display(df.sample(5))\n",
    "    def setting_col():\n",
    "        @interact_manual\n",
    "        def set_enrich_(src = [\"[all_columns]\",]+list(df.columns)):\n",
    "            DOM(f\"Setting up: {src}\", \"h4\")()\n",
    "            if src==\"[all_columns]\":\n",
    "                display(df.head())\n",
    "            else:\n",
    "                display(df[[src,]].head())\n",
    "            @interact_manual\n",
    "            def choose_enrich(dst=\"\", enrich = ENRICHMENTS):\n",
    "                DOM(f\"Source: {src}, Destination: {dst}, for {enrich.__class__.__name__}\", \"h4\")()\n",
    "                DOM(f\"{enrich.__doc__}\", \"quote\")()\n",
    "                obj = init_interact(enrich)\n",
    "    setting_col()"
   ]
  },
  {
   "cell_type": "code",
   "execution_count": 195,
   "metadata": {},
   "outputs": [
    {
     "data": {
      "text/html": [
       "<h3>522 rows of data, example table</h3>"
      ],
      "text/plain": [
       "<IPython.core.display.HTML object>"
      ]
     },
     "metadata": {},
     "output_type": "display_data"
    },
    {
     "data": {
      "text/html": [
       "<div>\n",
       "<style scoped>\n",
       "    .dataframe tbody tr th:only-of-type {\n",
       "        vertical-align: middle;\n",
       "    }\n",
       "\n",
       "    .dataframe tbody tr th {\n",
       "        vertical-align: top;\n",
       "    }\n",
       "\n",
       "    .dataframe thead th {\n",
       "        text-align: right;\n",
       "    }\n",
       "</style>\n",
       "<table border=\"1\" class=\"dataframe\">\n",
       "  <thead>\n",
       "    <tr style=\"text-align: right;\">\n",
       "      <th></th>\n",
       "      <th>path</th>\n",
       "    </tr>\n",
       "  </thead>\n",
       "  <tbody>\n",
       "    <tr>\n",
       "      <th>254</th>\n",
       "      <td>/Users/xiaochen.zhang/Downloads/bear_dataset/g...</td>\n",
       "    </tr>\n",
       "    <tr>\n",
       "      <th>301</th>\n",
       "      <td>/Users/xiaochen.zhang/Downloads/bear_dataset/g...</td>\n",
       "    </tr>\n",
       "    <tr>\n",
       "      <th>271</th>\n",
       "      <td>/Users/xiaochen.zhang/Downloads/bear_dataset/g...</td>\n",
       "    </tr>\n",
       "    <tr>\n",
       "      <th>351</th>\n",
       "      <td>/Users/xiaochen.zhang/Downloads/bear_dataset/t...</td>\n",
       "    </tr>\n",
       "    <tr>\n",
       "      <th>387</th>\n",
       "      <td>/Users/xiaochen.zhang/Downloads/bear_dataset/g...</td>\n",
       "    </tr>\n",
       "  </tbody>\n",
       "</table>\n",
       "</div>"
      ],
      "text/plain": [
       "                                                  path\n",
       "254  /Users/xiaochen.zhang/Downloads/bear_dataset/g...\n",
       "301  /Users/xiaochen.zhang/Downloads/bear_dataset/g...\n",
       "271  /Users/xiaochen.zhang/Downloads/bear_dataset/g...\n",
       "351  /Users/xiaochen.zhang/Downloads/bear_dataset/t...\n",
       "387  /Users/xiaochen.zhang/Downloads/bear_dataset/g..."
      ]
     },
     "metadata": {},
     "output_type": "display_data"
    },
    {
     "data": {
      "application/vnd.jupyter.widget-view+json": {
       "model_id": "e3a0496768e64e9b943b6e19de9a8220",
       "version_major": 2,
       "version_minor": 0
      },
      "text/plain": [
       "interactive(children=(Dropdown(description='src', options=('[all_columns]', 'path'), value='[all_columns]'), B…"
      ]
     },
     "metadata": {},
     "output_type": "display_data"
    }
   ],
   "source": [
    "set_enrich(bear_df)"
   ]
  },
  {
   "cell_type": "code",
   "execution_count": 14,
   "metadata": {},
   "outputs": [
    {
     "data": {
      "text/html": [
       "<div>\n",
       "<style scoped>\n",
       "    .dataframe tbody tr th:only-of-type {\n",
       "        vertical-align: middle;\n",
       "    }\n",
       "\n",
       "    .dataframe tbody tr th {\n",
       "        vertical-align: top;\n",
       "    }\n",
       "\n",
       "    .dataframe thead th {\n",
       "        text-align: right;\n",
       "    }\n",
       "</style>\n",
       "<table border=\"1\" class=\"dataframe\">\n",
       "  <thead>\n",
       "    <tr style=\"text-align: right;\">\n",
       "      <th></th>\n",
       "      <th>path</th>\n",
       "      <th>img</th>\n",
       "      <th>parent</th>\n",
       "    </tr>\n",
       "  </thead>\n",
       "  <tbody>\n",
       "    <tr>\n",
       "      <th>0</th>\n",
       "      <td>/Users/xiaochen.zhang/Downloads/bear_dataset/b...</td>\n",
       "      <td>[Image]</td>\n",
       "      <td>black</td>\n",
       "    </tr>\n",
       "    <tr>\n",
       "      <th>1</th>\n",
       "      <td>/Users/xiaochen.zhang/Downloads/bear_dataset/b...</td>\n",
       "      <td>[Image]</td>\n",
       "      <td>black</td>\n",
       "    </tr>\n",
       "    <tr>\n",
       "      <th>2</th>\n",
       "      <td>/Users/xiaochen.zhang/Downloads/bear_dataset/b...</td>\n",
       "      <td>[Image]</td>\n",
       "      <td>black</td>\n",
       "    </tr>\n",
       "    <tr>\n",
       "      <th>3</th>\n",
       "      <td>/Users/xiaochen.zhang/Downloads/bear_dataset/t...</td>\n",
       "      <td>[Image]</td>\n",
       "      <td>teddys</td>\n",
       "    </tr>\n",
       "    <tr>\n",
       "      <th>4</th>\n",
       "      <td>/Users/xiaochen.zhang/Downloads/bear_dataset/b...</td>\n",
       "      <td>[Image]</td>\n",
       "      <td>black</td>\n",
       "    </tr>\n",
       "    <tr>\n",
       "      <th>...</th>\n",
       "      <td>...</td>\n",
       "      <td>...</td>\n",
       "      <td>...</td>\n",
       "    </tr>\n",
       "    <tr>\n",
       "      <th>517</th>\n",
       "      <td>/Users/xiaochen.zhang/Downloads/bear_dataset/b...</td>\n",
       "      <td>[Image]</td>\n",
       "      <td>black</td>\n",
       "    </tr>\n",
       "    <tr>\n",
       "      <th>518</th>\n",
       "      <td>/Users/xiaochen.zhang/Downloads/bear_dataset/g...</td>\n",
       "      <td>[Image]</td>\n",
       "      <td>grizzly</td>\n",
       "    </tr>\n",
       "    <tr>\n",
       "      <th>519</th>\n",
       "      <td>/Users/xiaochen.zhang/Downloads/bear_dataset/g...</td>\n",
       "      <td>[Image]</td>\n",
       "      <td>grizzly</td>\n",
       "    </tr>\n",
       "    <tr>\n",
       "      <th>520</th>\n",
       "      <td>/Users/xiaochen.zhang/Downloads/bear_dataset/b...</td>\n",
       "      <td>[Image]</td>\n",
       "      <td>black</td>\n",
       "    </tr>\n",
       "    <tr>\n",
       "      <th>521</th>\n",
       "      <td>/Users/xiaochen.zhang/Downloads/bear_dataset/b...</td>\n",
       "      <td>[Image]</td>\n",
       "      <td>black</td>\n",
       "    </tr>\n",
       "  </tbody>\n",
       "</table>\n",
       "<p>522 rows × 3 columns</p>\n",
       "</div>"
      ],
      "text/plain": [
       "                                                  path      img   parent\n",
       "0    /Users/xiaochen.zhang/Downloads/bear_dataset/b...  [Image]    black\n",
       "1    /Users/xiaochen.zhang/Downloads/bear_dataset/b...  [Image]    black\n",
       "2    /Users/xiaochen.zhang/Downloads/bear_dataset/b...  [Image]    black\n",
       "3    /Users/xiaochen.zhang/Downloads/bear_dataset/t...  [Image]   teddys\n",
       "4    /Users/xiaochen.zhang/Downloads/bear_dataset/b...  [Image]    black\n",
       "..                                                 ...      ...      ...\n",
       "517  /Users/xiaochen.zhang/Downloads/bear_dataset/b...  [Image]    black\n",
       "518  /Users/xiaochen.zhang/Downloads/bear_dataset/g...  [Image]  grizzly\n",
       "519  /Users/xiaochen.zhang/Downloads/bear_dataset/g...  [Image]  grizzly\n",
       "520  /Users/xiaochen.zhang/Downloads/bear_dataset/b...  [Image]    black\n",
       "521  /Users/xiaochen.zhang/Downloads/bear_dataset/b...  [Image]    black\n",
       "\n",
       "[522 rows x 3 columns]"
      ]
     },
     "execution_count": 14,
     "metadata": {},
     "output_type": "execute_result"
    }
   ],
   "source": [
    "bear_df = enrich_parent_as_label(bear_df,)\n",
    "bear_df"
   ]
  },
  {
   "cell_type": "markdown",
   "metadata": {},
   "source": [
    "### \n"
   ]
  },
  {
   "cell_type": "markdown",
   "metadata": {},
   "source": [
    "### Quantify: Choose columns as X and Y, put them into number"
   ]
  },
  {
   "cell_type": "code",
   "execution_count": 15,
   "metadata": {
    "code_folding": [
     9,
     30
    ]
   },
   "outputs": [],
   "source": [
    "class Quantify:\n",
    "    is_quantify = True\n",
    "    \"\"\"\n",
    "    Transform list of things to torch tensor\n",
    "    \"\"\"\n",
    "    def __call__(self, list_of_items):\n",
    "        return torch.Tensor(list_of_items)\n",
    "\n",
    "\n",
    "class QuantifyImage(Quantify):\n",
    "    \"\"\"\n",
    "    Transform PIL.Image to tensor\n",
    "    \"\"\"\n",
    "\n",
    "    def __init__(\n",
    "        self,\n",
    "        image_size: Tuple[int] = (224, 224),\n",
    "        mean_=[0.485, 0.456, 0.406],\n",
    "        std=[0.229, 0.224, 0.225]\n",
    "    ):\n",
    "        self.transform = tfm.Compose([\n",
    "            tfm.Resize(image_size),\n",
    "            tfm.ToTensor(),\n",
    "            tfm.Normalize(mean=mean_, std=std),\n",
    "        ])\n",
    "\n",
    "    def __call__(self, list_of_image):\n",
    "        return self.transform(list_of_image)\n",
    "\n",
    "\n",
    "class QuantifyCategory(Quantify):\n",
    "    \"\"\"\n",
    "    Transform single categorical data to index numbers in pytorch tensors\n",
    "    \"\"\"\n",
    "\n",
    "    def __init__(self, col_name: str, min_frequency: int = 5):\n",
    "        self.col_name = col_name\n",
    "        self.min_frequency = min_frequency\n",
    "\n",
    "    def summarize_category(self, df):\n",
    "        df = pd.DataFrame(df)\n",
    "        value_counts = df.vc(self.col_name)\n",
    "        categories = np.array(\n",
    "            list(value_counts.index[value_counts.values > self.min_frequency]))\n",
    "        self.category = Category(arr=categories, pad_mst=True)\n",
    "        self.num_category = len(self.category)\n",
    "\n",
    "    def __call__(self, list_of_strings):\n",
    "        return torch.LongTensor(self.category.c2i[np.array(list_of_strings)])\n",
    "\n",
    "\n",
    "class QuantifyMultiCategory(Quantify):\n",
    "    \"\"\"\n",
    "    Turn Multi-categorical data to n_hot encoding numbers in pytorch tensors\n",
    "    \"\"\"\n",
    "    def __init__(self, col_name: str):\n",
    "        self.col_name = col_name\n",
    "        \n",
    "QUANTIFY = dict(\n",
    "    Quantify=Quantify,\n",
    "    QuantifyImage=QuantifyImage,\n",
    "    QuantifyCategory=QuantifyCategory,\n",
    "    QuantifyMultiCategory=QuantifyMultiCategory\n",
    ")"
   ]
  },
  {
   "cell_type": "code",
   "execution_count": null,
   "metadata": {},
   "outputs": [],
   "source": [
    "def set_column(df):\n",
    "    _, sample_row = next(df.iterrows())\n",
    "    @interact_manual\n",
    "    def "
   ]
  },
  {
   "cell_type": "markdown",
   "metadata": {},
   "source": [
    "###  Choose your model, loss"
   ]
  },
  {
   "cell_type": "markdown",
   "metadata": {},
   "source": [
    "### Training"
   ]
  },
  {
   "cell_type": "code",
   "execution_count": 27,
   "metadata": {},
   "outputs": [],
   "source": []
  },
  {
   "cell_type": "code",
   "execution_count": null,
   "metadata": {},
   "outputs": [],
   "source": []
  }
 ],
 "metadata": {
  "kernelspec": {
   "display_name": "Python 3 (ipykernel)",
   "language": "python",
   "name": "python3"
  },
  "language_info": {
   "codemirror_mode": {
    "name": "ipython",
    "version": 3
   },
   "file_extension": ".py",
   "mimetype": "text/x-python",
   "name": "python",
   "nbconvert_exporter": "python",
   "pygments_lexer": "ipython3",
   "version": "3.7.4"
  },
  "toc": {
   "base_numbering": 1,
   "nav_menu": {},
   "number_sections": true,
   "sideBar": true,
   "skip_h1_title": false,
   "title_cell": "Table of Contents",
   "title_sidebar": "Contents",
   "toc_cell": false,
   "toc_position": {},
   "toc_section_display": true,
   "toc_window_display": true
  }
 },
 "nbformat": 4,
 "nbformat_minor": 4
}
